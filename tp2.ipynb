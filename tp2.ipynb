{
 "cells": [
  {
   "cell_type": "markdown",
   "metadata": {},
   "source": [
    "# TP2\n"
   ]
  },
  {
   "cell_type": "markdown",
   "metadata": {},
   "source": [
    "## Loading and shaping"
   ]
  },
  {
   "cell_type": "code",
   "execution_count": 10,
   "metadata": {},
   "outputs": [],
   "source": [
    "import cv2\n",
    "import numpy as np\n",
    "from numpy.typing import NDArray\n",
    "import matplotlib.pyplot as plt\n",
    "\n",
    "def load_img(path: str) -> NDArray:\n",
    "    img = cv2.imread(path, cv2.IMREAD_COLOR)\n",
    "    img = cv2.cvtColor(img, cv2.COLOR_BGR2RGB)\n",
    "    return img\n",
    "\n",
    "image = load_img(\"data/kodim01.png\")\n",
    "#image dimensions saved for later\n",
    "w, h, _ = image.shape\n",
    "# Reshape image as vector of rgb for easier treatment\n",
    "vec = np.reshape(image, (-1, 3))"
   ]
  },
  {
   "cell_type": "markdown",
   "metadata": {},
   "source": [
    "## Operations"
   ]
  },
  {
   "cell_type": "code",
   "execution_count": 11,
   "metadata": {},
   "outputs": [
    {
     "name": "stdout",
     "output_type": "stream",
     "text": [
      "Covariance matrix: \n",
      "[[1192.50573385 1332.56841064 1163.60433579]\n",
      " [1332.56841064 2000.75580572 1778.77761116]\n",
      " [1163.60433579 1778.77761116 1609.11460684]]\n"
     ]
    }
   ],
   "source": [
    "\n",
    "avg = np.average(vec, axis=0)\n",
    "centered = vec - avg\n",
    "cov = np.cov(centered.T)\n",
    "print(f\"Covariance matrix: \\n{cov}\")\n",
    "\n",
    "h = np.linalg.eig(cov)\n",
    "altered_eiv = np.zeros((3,3,3))\n",
    "altered_imgs = np.zeros((3, *vec.shape))\n",
    "for i in range(3):\n",
    "    eiv = h.eigenvectors.copy()\n",
    "    eiv[i,:] = 0\n",
    "    altered_eiv[i,:,:] = eiv\n",
    "    # Applies eiv to each pixel of vec\n",
    "    altered_imgs[i, :, :] = np.einsum(\"ij,kj->ik\", vec, eiv)\n"
   ]
  },
  {
   "cell_type": "code",
   "execution_count": 13,
   "metadata": {},
   "outputs": [],
   "source": [
    "\n",
    "# Code to get the original image back in shape\n",
    "# back = np.reshape(vec, (w, h, 3))\n",
    "# plt.imshow(back)\n",
    "# plt.show()"
   ]
  }
 ],
 "metadata": {
  "kernelspec": {
   "display_name": "Python 3",
   "language": "python",
   "name": "python3"
  },
  "language_info": {
   "codemirror_mode": {
    "name": "ipython",
    "version": 3
   },
   "file_extension": ".py",
   "mimetype": "text/x-python",
   "name": "python",
   "nbconvert_exporter": "python",
   "pygments_lexer": "ipython3",
   "version": "3.11.6"
  }
 },
 "nbformat": 4,
 "nbformat_minor": 2
}
